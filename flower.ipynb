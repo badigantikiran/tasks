{
  "metadata": {
    "kernelspec": {
      "name": "python",
      "display_name": "Python (Pyodide)",
      "language": "python"
    },
    "language_info": {
      "codemirror_mode": {
        "name": "python",
        "version": 3
      },
      "file_extension": ".py",
      "mimetype": "text/x-python",
      "name": "python",
      "nbconvert_exporter": "python",
      "pygments_lexer": "ipython3",
      "version": "3.8"
    }
  },
  "nbformat_minor": 4,
  "nbformat": 4,
  "cells": [
    {
      "cell_type": "code",
      "source": "# import libraries",
      "metadata": {
        "trusted": true
      },
      "outputs": [],
      "execution_count": null
    },
    {
      "cell_type": "code",
      "source": "import numpy as np \nimport pandas as pd\nimport seaborn as sns\nimport matplotlib.pyplot as plt\n\n\n# Import libraries for classification task\nfrom sklearn.model_selection import train_test_split\nfrom sklearn.linear_model import LogisticRegression\nfrom sklearn.metrics import accuracy_score , confusion_matrix , classification_report \nfrom sklearn.metrics import precision_score, recall_score, f1_score\n\n\nfrom sklearn.linear_model import LogisticRegression\n\n#Remove warnings\nimport warnings\nwarnings.filterwarnings('ignore')",
      "metadata": {
        "trusted": true
      },
      "outputs": [],
      "execution_count": null
    },
    {
      "cell_type": "code",
      "source": "# Load Dataset\n\ndf = pd.read_csv('/kaggle/input/iriscsv/Iris.csv')\ndf.head()",
      "metadata": {
        "trusted": true
      },
      "outputs": [],
      "execution_count": null
    },
    {
      "cell_type": "code",
      "source": "\tId\tSepalLengthCm\tSepalWidthCm\tPetalLengthCm\tPetalWidthCm\tSpecies\n0\t1\t5.1\t3.5\t1.4\t0.2\tIris-setosa\n1\t2\t4.9\t3.0\t1.4\t0.2\tIris-setosa\n2\t3\t4.7\t3.2\t1.3\t0.2\tIris-setosa\n3\t4\t4.6\t3.1\t1.5\t0.2\tIris-setosa\n4\t5\t5.0\t3.6\t1.4\t0.2\tIris-setosa",
      "metadata": {
        "trusted": true
      },
      "outputs": [],
      "execution_count": null
    },
    {
      "cell_type": "code",
      "source": "# Drop id column\ndf.drop('Id',axis=1,inplace=True)",
      "metadata": {
        "trusted": true
      },
      "outputs": [],
      "execution_count": null
    },
    {
      "cell_type": "code",
      "source": "df.head()",
      "metadata": {
        "trusted": true
      },
      "outputs": [],
      "execution_count": null
    },
    {
      "cell_type": "code",
      "source": "\tSepalLengthCm\tSepalWidthCm\tPetalLengthCm\tPetalWidthCm\tSpecies\n0\t5.1\t3.5\t1.4\t0.2\tIris-setosa\n1\t4.9\t3.0\t1.4\t0.2\tIris-setosa\n2\t4.7\t3.2\t1.3\t0.2\tIris-setosa\n3\t4.6\t3.1\t1.5\t0.2\tIris-setosa\n4\t5.0\t3.6\t1.4\t0.2\tIris-setosa",
      "metadata": {
        "trusted": true
      },
      "outputs": [],
      "execution_count": null
    },
    {
      "cell_type": "code",
      "source": "# Select only numerical columns\nnumerical_columns = df.select_dtypes(include=['number'])\n\n# Compute correlation matrix\ncorrelation_matrix = numerical_columns.corr()",
      "metadata": {
        "trusted": true
      },
      "outputs": [],
      "execution_count": null
    },
    {
      "cell_type": "code",
      "source": "correlation_matrix",
      "metadata": {
        "trusted": true
      },
      "outputs": [],
      "execution_count": null
    },
    {
      "cell_type": "code",
      "source": "\tSepalLengthCm\tSepalWidthCm\tPetalLengthCm\tPetalWidthCm\nSepalLengthCm\t1.000000\t-0.109369\t0.871754\t0.817954\nSepalWidthCm\t-0.109369\t1.000000\t-0.420516\t-0.356544\nPetalLengthCm\t0.871754\t-0.420516\t1.000000\t0.962757\nPetalWidthCm\t0.817954\t-0.356544\t0.962757\t1.000000",
      "metadata": {
        "trusted": true
      },
      "outputs": [],
      "execution_count": null
    },
    {
      "cell_type": "code",
      "source": "plt.figure(figsize=(10,5))\nsns.heatmap(correlation_matrix,annot=True , cmap='RdYlGn')\nplt.title(\"Correlation of Iris dataset\")\nplt.show()",
      "metadata": {
        "trusted": true
      },
      "outputs": [],
      "execution_count": null
    },
    {
      "cell_type": "code",
      "source": "# Basic Information about dataset\ndf.info()\n<class 'pandas.core.frame.DataFrame'>\nRangeIndex: 150 entries, 0 to 149\nData columns (total 5 columns):\n #   Column         Non-Null Count  Dtype  \n---  ------         --------------  -----  \n 0   SepalLengthCm  150 non-null    float64\n 1   SepalWidthCm   150 non-null    float64\n 2   PetalLengthCm  150 non-null    float64\n 3   PetalWidthCm   150 non-null    float64\n 4   Species        150 non-null    object \ndtypes: float64(4), object(1)\nmemory usage: 6.0+ KB\n",
      "metadata": {
        "trusted": true
      },
      "outputs": [],
      "execution_count": null
    },
    {
      "cell_type": "code",
      "source": "# Overview of dataset\nprint(\"Number of Rows :\" , df.shape[0])\nprint(\"Number of Columns :\" , df.shape[1])",
      "metadata": {
        "trusted": true
      },
      "outputs": [],
      "execution_count": null
    },
    {
      "cell_type": "code",
      "source": "Number of Rows : 150\nNumber of Columns : 5",
      "metadata": {
        "trusted": true
      },
      "outputs": [],
      "execution_count": null
    },
    {
      "cell_type": "code",
      "source": "df.describe().T",
      "metadata": {
        "trusted": true
      },
      "outputs": [],
      "execution_count": null
    },
    {
      "cell_type": "code",
      "source": "\tcount\tmean\tstd\tmin\t25%\t50%\t75%\tmax\nSepalLengthCm\t150.0\t5.843333\t0.828066\t4.3\t5.1\t5.80\t6.4\t7.9\nSepalWidthCm\t150.0\t3.054000\t0.433594\t2.0\t2.8\t3.00\t3.3\t4.4\nPetalLengthCm\t150.0\t3.758667\t1.764420\t1.0\t1.6\t4.35\t5.1\t6.9\nPetalWidthCm\t150.0\t1.198667\t0.763161\t0.1\t0.3\t1.30\t1.8\t2.5",
      "metadata": {
        "trusted": true
      },
      "outputs": [],
      "execution_count": null
    },
    {
      "cell_type": "code",
      "source": "df['Species'].value_counts()",
      "metadata": {
        "trusted": true
      },
      "outputs": [],
      "execution_count": null
    },
    {
      "cell_type": "code",
      "source": "Species\nIris-setosa        50\nIris-versicolor    50\nIris-virginica     50\nName: count, dtype: int64",
      "metadata": {
        "trusted": true
      },
      "outputs": [],
      "execution_count": null
    },
    {
      "cell_type": "code",
      "source": "df.nunique()",
      "metadata": {
        "trusted": true
      },
      "outputs": [],
      "execution_count": null
    },
    {
      "cell_type": "code",
      "source": "SepalLengthCm    35\nSepalWidthCm     23\nPetalLengthCm    43\nPetalWidthCm     22\nSpecies           3\ndtype: int64",
      "metadata": {
        "trusted": true
      },
      "outputs": [],
      "execution_count": null
    },
    {
      "cell_type": "code",
      "source": "df.duplicated().sum()",
      "metadata": {
        "trusted": true
      },
      "outputs": [],
      "execution_count": null
    },
    {
      "cell_type": "code",
      "source": "#Save model\nimport pickle\n\nwith open('iris_model.pkl', 'wb') as file:\n    pickle.dump(clf, file)",
      "metadata": {
        "trusted": true
      },
      "outputs": [],
      "execution_count": null
    },
    {
      "cell_type": "code",
      "source": "",
      "metadata": {
        "trusted": true
      },
      "outputs": [],
      "execution_count": null
    }
  ]
}