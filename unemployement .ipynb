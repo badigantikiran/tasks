{
  "metadata": {
    "kernelspec": {
      "name": "python",
      "display_name": "Python (Pyodide)",
      "language": "python"
    },
    "language_info": {
      "codemirror_mode": {
        "name": "python",
        "version": 3
      },
      "file_extension": ".py",
      "mimetype": "text/x-python",
      "name": "python",
      "nbconvert_exporter": "python",
      "pygments_lexer": "ipython3",
      "version": "3.8"
    }
  },
  "nbformat_minor": 4,
  "nbformat": 4,
  "cells": [
    {
      "cell_type": "code",
      "source": "# Import libraries \nimport pandas as pd\nimport numpy as np\nimport matplotlib.pyplot as plt\nimport seaborn as sns\nimport plotly.express as px\nimport warnings\nwarnings.filterwarnings(\"ignore\")\n%matplotlib inline",
      "metadata": {
        "trusted": true
      },
      "outputs": [],
      "execution_count": null
    },
    {
      "cell_type": "code",
      "source": " Load dataset and create a dataframe \ndf = pd.read_csv('/kaggle/input/unemployment-in-india/Unemployment in India.csv')",
      "metadata": {
        "trusted": true
      },
      "outputs": [],
      "execution_count": null
    },
    {
      "cell_type": "code",
      "source": "# View top 5 rows\ndf.head()",
      "metadata": {
        "trusted": true
      },
      "outputs": [],
      "execution_count": null
    },
    {
      "cell_type": "code",
      "source": "Region\tDate\tFrequency\tEstimated Unemployment Rate (%)\tEstimated Employed\tEstimated Labour Participation Rate (%)\tArea\n0\tAndhra Pradesh\t31-05-2019\tMonthly\t3.65\t11999139.0\t43.24\tRural\n1\tAndhra Pradesh\t30-06-2019\tMonthly\t3.05\t11755881.0\t42.05\tRural\n2\tAndhra Pradesh\t31-07-2019\tMonthly\t3.75\t12086707.0\t43.50\tRural\n3\tAndhra Pradesh\t31-08-2019\tMonthly\t3.32\t12285693.0\t43.97\tRural\n4\tAndhra Pradesh\t30-09-2019\tMonthly\t5.17\t12256762.0\t44.68\tRural",
      "metadata": {
        "trusted": true
      },
      "outputs": [],
      "execution_count": null
    },
    {
      "cell_type": "code",
      "source": "# check the columns\ndf.columns\n",
      "metadata": {
        "trusted": true
      },
      "outputs": [],
      "execution_count": null
    },
    {
      "cell_type": "code",
      "source": "Index(['Region', ' Date', ' Frequency', ' Estimated Unemployment Rate (%)',\n       ' Estimated Employed', ' Estimated Labour Participation Rate (%)',\n       'Area'],\n      dtype='object')",
      "metadata": {
        "trusted": true
      },
      "outputs": [],
      "execution_count": null
    },
    {
      "cell_type": "code",
      "source": "# Removing spaces before and after the column names\ndf.columns = df.columns.str.strip()\ndf",
      "metadata": {
        "trusted": true
      },
      "outputs": [],
      "execution_count": null
    },
    {
      "cell_type": "code",
      "source": "\tRegion\tDate\tFrequency\tEstimated Unemployment Rate (%)\tEstimated Employed\tEstimated Labour Participation Rate (%)\tArea\n0\tAndhra Pradesh\t31-05-2019\tMonthly\t3.65\t11999139.0\t43.24\tRural\n1\tAndhra Pradesh\t30-06-2019\tMonthly\t3.05\t11755881.0\t42.05\tRural\n2\tAndhra Pradesh\t31-07-2019\tMonthly\t3.75\t12086707.0\t43.50\tRural\n3\tAndhra Pradesh\t31-08-2019\tMonthly\t3.32\t12285693.0\t43.97\tRural\n4\tAndhra Pradesh\t30-09-2019\tMonthly\t5.17\t12256762.0\t44.68\tRural\n",
      "metadata": {
        "trusted": true
      },
      "outputs": [],
      "execution_count": null
    },
    {
      "cell_type": "code",
      "source": "# View the number of rows and columns\nprint(f\"The dataframe has {df.shape[0]} rows and {df.shape[1]} columns\")\n",
      "metadata": {
        "trusted": true
      },
      "outputs": [],
      "execution_count": null
    },
    {
      "cell_type": "code",
      "source": "The dataframe has 768 rows and 7 columns",
      "metadata": {
        "trusted": true
      },
      "outputs": [],
      "execution_count": null
    },
    {
      "cell_type": "code",
      "source": "# Deatailed information about the dataset\ndf.info()",
      "metadata": {
        "trusted": true
      },
      "outputs": [],
      "execution_count": null
    },
    {
      "cell_type": "code",
      "source": "<class 'pandas.core.frame.DataFrame'>\nRangeIndex: 768 entries, 0 to 767\nData columns (total 7 columns):\n #   Column                                   Non-Null Count  Dtype  \n---  ------                                   --------------  -----  \n 0   Region                                   740 non-null    object \n 1   Date                                     740 non-null    object \n 2   Frequency                                740 non-null    object \n 3   Estimated Unemployment Rate (%)          740 non-null    float64\n 4   Estimated Employed                       740 non-null    float64\n 5   Estimated Labour Participation Rate (%)  740 non-null    float64\n 6   Area                                     740 non-null    object \ndtypes: float64(3), object(4)\nmemory usage: 42.1+ KB",
      "metadata": {
        "trusted": true
      },
      "outputs": [],
      "execution_count": null
    },
    {
      "cell_type": "code",
      "source": "# Descriptive statistics\ndf.describe()",
      "metadata": {
        "trusted": true
      },
      "outputs": [],
      "execution_count": null
    },
    {
      "cell_type": "code",
      "source": "Estimated Unemployment Rate (%)\tEstimated Employed\tEstimated Labour Participation Rate (%)\ncount\t740.000000\t7.400000e+02\t740.000000\nmean\t11.787946\t7.204460e+06\t42.630122\nstd\t10.721298\t8.087988e+06\t8.111094\nmin\t0.000000\t4.942000e+04\t13.330000\n25%\t4.657500\t1.190404e+06\t38.062500\n50%\t8.350000\t4.744178e+06\t41.160000\n75%\t15.887500\t1.127549e+07\t45.505000\nmax\t76.740000\t4.577751e+07\t72.570000",
      "metadata": {
        "trusted": true
      },
      "outputs": [],
      "execution_count": null
    },
    {
      "cell_type": "code",
      "source": "# Check for missing values  \nprint(df.isnull().sum())",
      "metadata": {
        "trusted": true
      },
      "outputs": [],
      "execution_count": null
    },
    {
      "cell_type": "code",
      "source": "Region                                     28\nDate                                       28\nFrequency                                  28\nEstimated Unemployment Rate (%)            28\nEstimated Employed                         28\nEstimated Labour Participation Rate (%)    28\nArea                                       28\ndtype: int64",
      "metadata": {
        "trusted": true
      },
      "outputs": [],
      "execution_count": null
    },
    {
      "cell_type": "code",
      "source": "# check missing values again\nprint(df.isnull().sum())",
      "metadata": {
        "trusted": true
      },
      "outputs": [],
      "execution_count": null
    },
    {
      "cell_type": "code",
      "source": "Region                                     0\nDate                                       0\nFrequency                                  0\nEstimated Unemployment Rate (%)            0\nEstimated Employed                         0\nEstimated Labour Participation Rate (%)    0\nArea                                       0\ndtype: int64\nMilestone 1: Hence no Missing values found 👥",
      "metadata": {
        "trusted": true
      },
      "outputs": [],
      "execution_count": null
    },
    {
      "cell_type": "code",
      "source": "df.columns",
      "metadata": {
        "trusted": true
      },
      "outputs": [],
      "execution_count": null
    },
    {
      "cell_type": "code",
      "source": "Index(['Region', 'Date', 'Frequency', 'Estimated Unemployment Rate (%)',\n       'Estimated Employed', 'Estimated Labour Participation Rate (%)',\n       'Area'],\n      dtype='object')",
      "metadata": {
        "trusted": true
      },
      "outputs": [],
      "execution_count": null
    },
    {
      "cell_type": "code",
      "source": "# Adding Day, Month, and Year\ndf['Date'] = pd.to_datetime(df['Date'])\ndf['Day'] = df['Date'].dt.day\ndf['Month'] = df['Date'].dt.month_name()\ndf['Year'] = df['Date'].dt.year\n\n# Importing Warnings library\nimport warnings\n\n# Ignoring unwanted warnings\nwarnings.filterwarnings(\"ignore\")\n\ndf",
      "metadata": {
        "trusted": true
      },
      "outputs": [],
      "execution_count": null
    },
    {
      "cell_type": "code",
      "source": "\tRegion\tDate\tFrequency\tEstimated Unemployment Rate (%)\tEstimated Employed\tEstimated Labour Participation Rate (%)\tArea\tDay\tMonth\tYear\n0\tAndhra Pradesh\t2019-05-31\tMonthly\t3.65\t11999139.0\t43.24\tRural\t31\tMay\t2019\n1\tAndhra Pradesh\t2019-06-30\tMonthly\t3.05\t11755881.0\t42.05\tRural\t30\tJune\t2019\n2\tAndhra Pradesh\t2019-07-31\tMonthly\t3.75\t12086707.0\t43.50\tRural\t31\tJuly\t2019\n3\tAndhra Pradesh\t2019-08-31\tMonthly\t3.32\t12285693.0\t43.97\tRural\t31\tAugust\t2019\n4\tAndhra Pradesh\t2019-09-30\tMonthly\t5.17\t12256762.0\t44.68\tRural\t30\tSeptember\t2019\n...\t...\t...\t...\t...\t...\t...\t...\t...\t...\t...\n749\tWest Bengal\t2020-02-29\tMonthly\t7.55\t10871168.0\t44.09\tUrban\t29\tFebruary\t2020\n750\tWest Bengal\t2020-03-31\tMonthly\t6.67\t10806105.0\t43.34\tUrban\t31\tMarch\t2020\n751\tWest Bengal\t2020-04-30\tMonthly\t15.63\t9299466.0\t41.20\tUrban\t30\tApril\t2020\n752\tWest Bengal\t2020-05-31\tMonthly\t15.22\t9240903.0\t40.67\tUrban\t31\tMay\t2020\n753\tWest Bengal\t2020-06-30\tMonthly\t9.86\t9088931.0\t37.57\tUrban\t30\tJune\t2020\n740 rows × 10 columns",
      "metadata": {
        "trusted": true
      },
      "outputs": [],
      "execution_count": null
    },
    {
      "cell_type": "code",
      "source": "df.columns",
      "metadata": {
        "trusted": true
      },
      "outputs": [],
      "execution_count": null
    },
    {
      "cell_type": "code",
      "source": "Index(['Region', 'Date', 'Frequency', 'Estimated Unemployment Rate (%)',\n       'Estimated Employed', 'Estimated Labour Participation Rate (%)', 'Area',\n       'Day', 'Month', 'Year'],\n      dtype='object')",
      "metadata": {
        "trusted": true
      },
      "outputs": [],
      "execution_count": null
    },
    {
      "cell_type": "code",
      "source": "# Summary statistics\nprint(df.describe())\n\n# Mean unemployment rate\nmean_unemployment = df['Estimated Unemployment Rate (%)'].mean()\nprint(f'Mean Unemployment Rate: {mean_unemployment:.2f}%')\n\n# Median unemployment rate\nmedian_unemployment = df['Estimated Unemployment Rate (%)'].median()\nprint(f'Median Unemployment Rate: {median_unemployment:.2f}%')\n\n# Standard deviation of unemployment rate\nstd_unemployment = df['Estimated Unemployment Rate (%)'].std()\nprint(f'Standard Deviation of Unemployment Rate: {std_unemployment:.2f}%')",
      "metadata": {
        "trusted": true
      },
      "outputs": [],
      "execution_count": null
    },
    {
      "cell_type": "code",
      "source": "           Date  Estimated Unemployment Rate (%)  \\\ncount                            740                       740.000000   \nmean   2019-12-12 18:36:58.378378496                        11.787946   \nmin              2019-05-31 00:00:00                         0.000000   \n25%              2019-08-31 00:00:00                         4.657500   \n50%              2019-11-30 00:00:00                         8.350000   \n75%              2020-03-31 00:00:00                        15.887500   \nmax              2020-06-30 00:00:00                        76.740000   \nstd                              NaN                        10.721298   \n\n       Estimated Employed  Estimated Labour Participation Rate (%)  \\\ncount        7.400000e+02                               740.000000   \nmean         7.204460e+06                                42.630122   \nmin          4.942000e+04                                13.330000   \n25%          1.190404e+06                                38.062500   \n50%          4.744178e+06                                41.160000   \n75%          1.127549e+07                                45.505000   \nmax          4.577751e+07                                72.570000   \nstd          8.087988e+06                                 8.111094   \n\n              Day         Year  \ncount  740.000000   740.000000  \nmean    30.502703  2019.418919  \nmin     29.000000  2019.000000  \n25%     30.000000  2019.000000 \n50%     31.000000  2019.000000  \n75%     31.000000  2020.000000  \nmax     31.000000  2020.000000  \nstd      0.627509     0.493716  \nMean Unemployment Rate: 11.79%\nMedian Unemployment Rate: 8.35%\nStandard Deviation of Unemployment Rate: 10.72% \n\n",
      "metadata": {
        "trusted": true
      },
      "outputs": [],
      "execution_count": null
    }
  ]
}